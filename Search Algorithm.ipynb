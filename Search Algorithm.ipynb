{
 "cells": [
  {
   "cell_type": "markdown",
   "source": [
    "# Search Algorithm"
   ],
   "metadata": {
    "collapsed": false
   },
   "id": "543516d8a2750a16"
  },
  {
   "cell_type": "markdown",
   "source": [
    "## Code was made by Muhammad Arief Mulyana"
   ],
   "metadata": {
    "collapsed": false
   },
   "id": "da584f5df69e8afb"
  },
  {
   "cell_type": "code",
   "execution_count": 1,
   "outputs": [
    {
     "name": "stdout",
     "output_type": "stream",
     "text": [
      "|--- A\n",
      "     |--- B\n",
      "          |--- D\n",
      "               |--- F\n",
      "                    |--- H\n",
      "               |--- A\n",
      "          |--- A\n",
      "     |--- C\n",
      "          |--- E\n",
      "               |--- G\n",
      "                    |--- I\n",
      "                    |--- C\n",
      "          |--- A\n"
     ]
    }
   ],
   "source": [
    "# Simplified graph tree for search algorithm\n",
    "\n",
    "tree = {\n",
    "    'A': {\n",
    "        'B': {\n",
    "            'D': {\n",
    "                'F': {\n",
    "                    'H': {}\n",
    "                },\n",
    "                'A': {}\n",
    "            },\n",
    "            'A': {}\n",
    "        },\n",
    "        'C': {\n",
    "            'E': {\n",
    "                'G': {\n",
    "                    'I': {},\n",
    "                    'C': {}\n",
    "                }\n",
    "            },\n",
    "            'A': {}\n",
    "        }\n",
    "    }\n",
    "}\n",
    "\n",
    "\n",
    "def print_tree(tree, indent=0):\n",
    "    for key, subtree in tree.items():\n",
    "        print(' ' * indent + '|---', key)\n",
    "        if subtree:\n",
    "            print_tree(subtree, indent + 5)\n",
    "\n",
    "# Example usage:\n",
    "print_tree(tree)"
   ],
   "metadata": {
    "collapsed": false,
    "ExecuteTime": {
     "end_time": "2024-04-10T15:38:01.983149100Z",
     "start_time": "2024-04-10T15:38:01.965813100Z"
    }
   },
   "id": "2171e6d1fc43d32c"
  },
  {
   "cell_type": "markdown",
   "source": [
    "### Biderictional Search Algorithm"
   ],
   "metadata": {
    "collapsed": false
   },
   "id": "12132336c713c4da"
  },
  {
   "cell_type": "code",
   "execution_count": 2,
   "outputs": [
    {
     "name": "stdout",
     "output_type": "stream",
     "text": [
      "Shortest path found: ['A', 'C', 'E', 'G', 'I']\n"
     ]
    }
   ],
   "source": [
    "#Python code of the algorithm for finding the shortest path\n",
    "\n",
    "from collections import defaultdict, deque\n",
    "\n",
    "def bidirectional_search(graph, start, goal):\n",
    "    if start == goal:\n",
    "        return [start]\n",
    "    \n",
    "    # Queue for forward search (from start)\n",
    "    forward_queue = deque([start])\n",
    "    forward_visited = set([start])\n",
    "    forward_parent = {start: None}\n",
    "    \n",
    "    # Queue for backward search (from goal)\n",
    "    backward_queue = deque([goal])\n",
    "    backward_visited = set([goal])\n",
    "    backward_parent = {goal: None}\n",
    "    \n",
    "    while forward_queue and backward_queue:\n",
    "        # Perform forward search step\n",
    "        current_forward = forward_queue.popleft()\n",
    "        for neighbor in graph[current_forward]:\n",
    "            if neighbor not in forward_visited:\n",
    "                forward_visited.add(neighbor)\n",
    "                forward_queue.append(neighbor)\n",
    "                forward_parent[neighbor] = current_forward\n",
    "                if neighbor in backward_visited:\n",
    "                    return reconstruct_path(forward_parent, backward_parent, neighbor)\n",
    "        \n",
    "        # Perform backward search step\n",
    "        current_backward = backward_queue.popleft()\n",
    "        for neighbor in graph[current_backward]:\n",
    "            if neighbor not in backward_visited:\n",
    "                backward_visited.add(neighbor)\n",
    "                backward_queue.append(neighbor)\n",
    "                backward_parent[neighbor] = current_backward\n",
    "                if neighbor in forward_visited:\n",
    "                    return reconstruct_path(forward_parent, backward_parent, neighbor)\n",
    "    \n",
    "    return None  # No path found\n",
    "\n",
    "def reconstruct_path(forward_parent, backward_parent, intersect_node):\n",
    "    # Reconstruct path from start to goal\n",
    "    path = []\n",
    "    node = intersect_node\n",
    "    while node is not None:\n",
    "        path.append(node)\n",
    "        node = forward_parent[node]\n",
    "    path.reverse()\n",
    "    \n",
    "    # Append path from goal to intersect_node\n",
    "    node = backward_parent[intersect_node]\n",
    "    while node is not None:\n",
    "        path.append(node)\n",
    "        node = backward_parent[node]\n",
    "    \n",
    "    return path\n",
    "\n",
    "# Example usage\n",
    "graph = {\n",
    "    'A': ['B', 'C'],\n",
    "    'B': ['A', 'D'],\n",
    "    'C': ['A', 'E'],\n",
    "    'D': ['B', 'F'],\n",
    "    'E': ['C', 'G'],\n",
    "    'F': ['D', 'H'],\n",
    "    'G': ['E', 'I'],\n",
    "    'H': ['F'],\n",
    "    'I': ['G']\n",
    "}\n",
    "\n",
    "start_node = 'A'\n",
    "goal_node = 'I'\n",
    "\n",
    "path = bidirectional_search(graph, start_node, goal_node)\n",
    "if path:\n",
    "    print(\"Shortest path found:\", path)\n",
    "else:\n",
    "    print(\"No path found.\")"
   ],
   "metadata": {
    "collapsed": false,
    "ExecuteTime": {
     "end_time": "2024-04-10T15:38:01.984146200Z",
     "start_time": "2024-04-10T15:38:01.974189800Z"
    }
   },
   "id": "2bd219cbc3fa0f5e"
  },
  {
   "cell_type": "markdown",
   "source": [
    "### Iterative Deepening Search Algorithm"
   ],
   "metadata": {
    "collapsed": false
   },
   "id": "3eb78dea80c72362"
  },
  {
   "cell_type": "code",
   "execution_count": 3,
   "outputs": [
    {
     "name": "stdout",
     "output_type": "stream",
     "text": [
      "Depth Limit: 0\n",
      "Depth Limit: 1\n",
      "Iteration 1: Searching node A at depth 1\n",
      "Depth Limit: 2\n",
      "Iteration 2: Searching node A at depth 2\n",
      "Iteration 2: Searching node B at depth 1\n",
      "Iteration 2: Searching node C at depth 1\n",
      "Depth Limit: 3\n",
      "Iteration 3: Searching node A at depth 3\n",
      "Iteration 3: Searching node B at depth 2\n",
      "Iteration 3: Searching node D at depth 1\n",
      "Iteration 3: Searching node A at depth 1\n",
      "Iteration 3: Searching node C at depth 2\n",
      "Iteration 3: Searching node E at depth 1\n",
      "Iteration 3: Searching node A at depth 1\n",
      "Depth Limit: 4\n",
      "Iteration 4: Searching node A at depth 4\n",
      "Iteration 4: Searching node B at depth 3\n",
      "Iteration 4: Searching node D at depth 2\n",
      "Iteration 4: Searching node F at depth 1\n",
      "Iteration 4: Searching node A at depth 1\n",
      "Iteration 4: Searching node A at depth 2\n",
      "Iteration 4: Searching node C at depth 3\n",
      "Iteration 4: Searching node E at depth 2\n",
      "Iteration 4: Searching node G at depth 1\n",
      "Goal state 'I' found at node I!\n"
     ]
    }
   ],
   "source": [
    "#Searching algorithm using iterative increasing depth limit of searching\n",
    "\n",
    "class Node:\n",
    "    def __init__(self, name, children=[]):\n",
    "        self.name = name\n",
    "        self.children = children\n",
    "\n",
    "    def __str__(self):\n",
    "        return self.name\n",
    "\n",
    "\n",
    "def depth_limited_search(node, goal_state, depth_limit, iteration_count):\n",
    "    if node.name == goal_state:\n",
    "        return node, True\n",
    "    if depth_limit <= 0:\n",
    "        return None, False\n",
    "\n",
    "    print(f\"Iteration {iteration_count}: Searching node {node.name} at depth {depth_limit}\")\n",
    "\n",
    "    for child in node.children:\n",
    "        result, found = depth_limited_search(child, goal_state, depth_limit - 1, iteration_count)\n",
    "        if found:\n",
    "            return result, True\n",
    "    return None, False\n",
    "\n",
    "\n",
    "def iterative_deepening_search(root, goal_state, max_depth):\n",
    "    for depth in range(max_depth + 1):\n",
    "        print(f\"Depth Limit: {depth}\")\n",
    "        result, found = depth_limited_search(root, goal_state, depth, iteration_count=depth)\n",
    "        if found:\n",
    "            return result\n",
    "    return None\n",
    "\n",
    "\n",
    "# Example usage:\n",
    "if __name__ == \"__main__\":\n",
    "    # Define the tree structure (string representation)\n",
    "    tree = Node('A', [\n",
    "        Node('B', [\n",
    "            Node('D', [\n",
    "                Node('F', [\n",
    "                    Node('H')\n",
    "                ]),\n",
    "                Node('A')\n",
    "            ]),\n",
    "            Node('A')\n",
    "        ]),\n",
    "        Node('C', [\n",
    "            Node('E', [\n",
    "                Node('G', [\n",
    "                    Node('I'),\n",
    "                    Node('C')\n",
    "                ])\n",
    "            ]),\n",
    "            Node('A')\n",
    "        ])\n",
    "    ])\n",
    "\n",
    "    # Perform iterative deepening search\n",
    "    goal_state = 'I'\n",
    "    max_depth = 5\n",
    "    result = iterative_deepening_search(tree, goal_state, max_depth)\n",
    "\n",
    "    if result is not None:\n",
    "        print(f\"Goal state '{goal_state}' found at node {result.name}!\")\n",
    "    else:\n",
    "        print(f\"Goal state '{goal_state}' not found within depth limit {max_depth}.\")"
   ],
   "metadata": {
    "collapsed": false,
    "ExecuteTime": {
     "end_time": "2024-04-10T15:38:01.991119400Z",
     "start_time": "2024-04-10T15:38:01.985143200Z"
    }
   },
   "id": "e350afeb3a5e6e89"
  }
 ],
 "metadata": {
  "kernelspec": {
   "display_name": "Python 3",
   "language": "python",
   "name": "python3"
  },
  "language_info": {
   "codemirror_mode": {
    "name": "ipython",
    "version": 2
   },
   "file_extension": ".py",
   "mimetype": "text/x-python",
   "name": "python",
   "nbconvert_exporter": "python",
   "pygments_lexer": "ipython2",
   "version": "2.7.6"
  }
 },
 "nbformat": 4,
 "nbformat_minor": 5
}
